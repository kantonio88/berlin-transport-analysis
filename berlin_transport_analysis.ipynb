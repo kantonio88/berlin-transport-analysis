{
 "cells": [
  {
   "cell_type": "markdown",
   "id": "0cb66139",
   "metadata": {},
   "source": [
    "# Berlin Public Transport Analysis 🚇"
   ]
  },
  {
   "cell_type": "markdown",
   "id": "45dfdc06",
   "metadata": {},
   "source": [
    "## Overview\n",
    "This notebook analyzes simulated public transport data in Berlin to identify patterns in passenger volumes and delays. The goal is to gain basic insights using Python for data cleaning, exploration, and visualization."
   ]
  },
  {
   "cell_type": "code",
   "execution_count": null,
   "id": "7e779bd3",
   "metadata": {},
   "outputs": [],
   "source": [
    "\n",
    "# Importing Libraries\n",
    "import pandas as pd\n",
    "import numpy as np\n",
    "import matplotlib.pyplot as plt\n",
    "\n",
    "# Step 1: Simulate the Data\n",
    "np.random.seed(42)\n",
    "num_rows = 1000\n",
    "\n",
    "data = {\n",
    "    \"Route\": np.random.choice([\"U1\", \"U2\", \"U3\", \"U4\", \"U5\"], num_rows),\n",
    "    \"Station\": np.random.choice(\n",
    "        [\"Alexanderplatz\", \"Potsdamer Platz\", \"Hauptbahnhof\", \"Friedrichstraße\", \"Zoo\"], num_rows\n",
    "    ),\n",
    "    \"Passenger_Count\": np.random.randint(50, 500, num_rows),\n",
    "    \"Delay_Minutes\": np.random.choice([0, 1, 2, 5, 10], num_rows, p=[0.6, 0.2, 0.1, 0.05, 0.05]),\n",
    "    \"DateTime\": pd.date_range(start=\"2024-01-01\", periods=num_rows, freq=\"H\"),\n",
    "}\n",
    "\n",
    "df = pd.DataFrame(data)\n",
    "print(\"Preview of the data:\")\n",
    "print(df.head())\n",
    "\n",
    "# Basic statistics\n",
    "print(\"\\nSummary statistics:\")\n",
    "print(df.describe())\n",
    "    "
   ]
  },
  {
   "cell_type": "markdown",
   "id": "aa862667",
   "metadata": {},
   "source": [
    "## Visualizations"
   ]
  },
  {
   "cell_type": "code",
   "execution_count": null,
   "id": "ea49fc5a",
   "metadata": {},
   "outputs": [],
   "source": [
    "\n",
    "# Average Passengers by Route\n",
    "avg_passengers_by_route = df.groupby(\"Route\")[\"Passenger_Count\"].mean()\n",
    "plt.figure(figsize=(8, 5))\n",
    "avg_passengers_by_route.plot(kind=\"bar\", title=\"Average Passenger Count by Route\")\n",
    "plt.ylabel(\"Average Passengers\")\n",
    "plt.grid(axis=\"y\")\n",
    "plt.show()\n",
    "\n",
    "# Average Delay by Station\n",
    "avg_delay_by_station = df.groupby(\"Station\")[\"Delay_Minutes\"].mean()\n",
    "plt.figure(figsize=(8, 5))\n",
    "avg_delay_by_station.plot(kind=\"bar\", color=\"orange\", title=\"Average Delay by Station\")\n",
    "plt.ylabel(\"Average Delay (Minutes)\")\n",
    "plt.xticks(rotation=45)\n",
    "plt.grid(axis=\"y\")\n",
    "plt.show()\n",
    "\n",
    "# Passenger and Delay Trends by Hour\n",
    "df['Hour'] = df['DateTime'].dt.hour\n",
    "avg_delay_by_hour = df.groupby('Hour')['Delay_Minutes'].mean()\n",
    "avg_passenger_by_hour = df.groupby('Hour')['Passenger_Count'].mean()\n",
    "\n",
    "plt.figure(figsize=(10, 6))\n",
    "plt.plot(avg_delay_by_hour, label=\"Average Delay (Minutes)\", marker=\"o\")\n",
    "plt.plot(avg_passenger_by_hour, label=\"Average Passengers\", marker=\"x\", color=\"orange\")\n",
    "plt.title(\"Passenger and Delay Trends by Hour\")\n",
    "plt.xlabel(\"Hour of Day\")\n",
    "plt.ylabel(\"Values\")\n",
    "plt.legend()\n",
    "plt.grid()\n",
    "plt.show()\n",
    "    "
   ]
  }
 ],
 "metadata": {},
 "nbformat": 4,
 "nbformat_minor": 5
}
